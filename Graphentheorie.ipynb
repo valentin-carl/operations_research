{
 "cells": [
  {
   "cell_type": "markdown",
   "id": "37c6def3",
   "metadata": {},
   "source": [
    "# Graphentheorie\n",
    "\n",
    "### Kruskals-Algorithmus"
   ]
  },
  {
   "cell_type": "code",
   "execution_count": null,
   "id": "f7c62288",
   "metadata": {},
   "outputs": [],
   "source": []
  },
  {
   "cell_type": "code",
   "execution_count": null,
   "id": "464b2f04",
   "metadata": {},
   "outputs": [],
   "source": []
  },
  {
   "cell_type": "markdown",
   "id": "203182a4",
   "metadata": {},
   "source": [
    "### Bellman-Ford-Algorithmus"
   ]
  },
  {
   "cell_type": "code",
   "execution_count": 12,
   "id": "1e77a3da",
   "metadata": {
    "scrolled": true
   },
   "outputs": [],
   "source": [
    "\"\"\"\n",
    "Werte für Unendlich einfach hinreichend groß wählen;\n",
    "das min muss nur >= 1000 sein, damit Unendlich geprintet wird.\n",
    "\"\"\"\n",
    "B = [[0,   1,    9999,  9999,  9999],\n",
    "    [9999, 0,    9999, -2,     9999],\n",
    "    [9999, 3,    0,     9999,  9999],\n",
    "    [9999, 9999, 2,     0,    -2],\n",
    "    [9999, 9999, 9999,  9999,  0]]\n",
    "        \n",
    "def find_min(U, B, i, j):\n",
    "    row = U[i]\n",
    "    col = []\n",
    "    for index in range(len(B)):\n",
    "        col.append(B[index][j])\n",
    "    possible_mins = []\n",
    "    for index in range(len(row)):\n",
    "        possible_mins.append(row[index]+col[index])\n",
    "    return min(possible_mins)\n",
    "\n",
    "def bellman_mult(U, B):\n",
    "    res = []\n",
    "    for i in range(len(U)):\n",
    "        res.append([])\n",
    "        for j in range(len(B)):\n",
    "            res[i].append(find_min(U, B, i, j))\n",
    "    return res\n",
    "\n",
    "def print_bellman(result):\n",
    "    for i in range(len(result)):\n",
    "        for j in range(len(result)):\n",
    "            if result[i][j] > 1000:\n",
    "                print(\" \" + '\\u221E' + \"\\t\", end = \"\")\n",
    "            elif result[i][j] >= 0:\n",
    "                print(\" \" + str(result[i][j]) + \"\\t\", end = \"\")\n",
    "            else:\n",
    "                print(str(result[i][j]) + \"\\t\", end = \"\")\n",
    "        print(\" \")\n",
    "        \n",
    "def calc_bellman(B: list[list[int]], n = len(B)):\n",
    "    n_iterations = n-1\n",
    "    U = [B]\n",
    "    for i in range(n_iterations):\n",
    "        U.append(bellman_mult(U[i], B))\n",
    "        print(f\" {i+1}. Iteration: U^({i+1})=\")\n",
    "        print_bellman(U[i])\n",
    "        print(\"\")\n",
    "    return U[-1]\n",
    "    \n",
    "#x = calc_bellman(B)"
   ]
  },
  {
   "cell_type": "code",
   "execution_count": 17,
   "id": "69cef028",
   "metadata": {
    "scrolled": true
   },
   "outputs": [
    {
     "name": "stdout",
     "output_type": "stream",
     "text": [
      " 1. Iteration: U^(1)=\n",
      " 0\t ∞\t 2\t ∞\t ∞\t \n",
      " ∞\t 0\t 1\t ∞\t ∞\t \n",
      " ∞\t ∞\t 0\t-1\t 3\t \n",
      " ∞\t ∞\t ∞\t 0\t 2\t \n",
      " ∞\t ∞\t ∞\t ∞\t 0\t \n",
      "\n",
      " 2. Iteration: U^(2)=\n",
      " 0\t ∞\t 2\t 1\t 5\t \n",
      " ∞\t 0\t 1\t 0\t 4\t \n",
      " ∞\t ∞\t 0\t-1\t 1\t \n",
      " ∞\t ∞\t ∞\t 0\t 2\t \n",
      " ∞\t ∞\t ∞\t ∞\t 0\t \n",
      "\n",
      " 3. Iteration: U^(3)=\n",
      " 0\t ∞\t 2\t 1\t 3\t \n",
      " ∞\t 0\t 1\t 0\t 2\t \n",
      " ∞\t ∞\t 0\t-1\t 1\t \n",
      " ∞\t ∞\t ∞\t 0\t 2\t \n",
      " ∞\t ∞\t ∞\t ∞\t 0\t \n",
      "\n",
      " 4. Iteration: U^(4)=\n",
      " 0\t ∞\t 2\t 1\t 3\t \n",
      " ∞\t 0\t 1\t 0\t 2\t \n",
      " ∞\t ∞\t 0\t-1\t 1\t \n",
      " ∞\t ∞\t ∞\t 0\t 2\t \n",
      " ∞\t ∞\t ∞\t ∞\t 0\t \n",
      "\n"
     ]
    }
   ],
   "source": [
    "B = [\n",
    "    [0, 9999, 2, 9999, 9999],\n",
    "    [9999, 0, 1, 9999, 9999],\n",
    "    [9999, 9999, 0, -1, 3],\n",
    "    [9999, 9999, 9999, 0, 2],\n",
    "    [9999, 9999, 9999, 9999, 0]\n",
    "]\n",
    "\n",
    "y = calc_bellman(B)"
   ]
  },
  {
   "cell_type": "markdown",
   "id": "fa190b2d",
   "metadata": {},
   "source": [
    "### Graphentheorie #2"
   ]
  },
  {
   "cell_type": "code",
   "execution_count": null,
   "id": "48197c0d",
   "metadata": {},
   "outputs": [],
   "source": [
    "class Vertex:\n",
    "    def __init__(self, value: int):\n",
    "        self.value = value\n",
    "        self.edges = set()\n",
    "        \n",
    "class Edge:\n",
    "    def __init__(self, v1: Vertex, v2: Vertex, weight = 0, directed = False):\n",
    "        self.v1 = v1\n",
    "        self.v2 = v2\n",
    "        self.weight = weight\n",
    "        self.directed = directed\n",
    "        \n",
    "\"\"\"\n",
    "X = (\n",
    "    \n",
    "    \n",
    ")\n",
    "\n",
    "\"\"\""
   ]
  }
 ],
 "metadata": {
  "kernelspec": {
   "display_name": "Python 3 (ipykernel)",
   "language": "python",
   "name": "python3"
  },
  "language_info": {
   "codemirror_mode": {
    "name": "ipython",
    "version": 3
   },
   "file_extension": ".py",
   "mimetype": "text/x-python",
   "name": "python",
   "nbconvert_exporter": "python",
   "pygments_lexer": "ipython3",
   "version": "3.9.10"
  }
 },
 "nbformat": 4,
 "nbformat_minor": 5
}
