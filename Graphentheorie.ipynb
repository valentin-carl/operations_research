{
 "cells": [
  {
   "cell_type": "markdown",
   "id": "37c6def3",
   "metadata": {},
   "source": [
    "# Graphentheorie\n",
    "\n",
    "### Kruskals-Algorithmus"
   ]
  },
  {
   "cell_type": "code",
   "execution_count": null,
   "id": "f7c62288",
   "metadata": {},
   "outputs": [],
   "source": []
  },
  {
   "cell_type": "code",
   "execution_count": null,
   "id": "77200708",
   "metadata": {},
   "outputs": [],
   "source": []
  },
  {
   "cell_type": "markdown",
   "id": "e0fc8015",
   "metadata": {},
   "source": [
    "### Bellman-Ford-Algorithmus"
   ]
  },
  {
   "cell_type": "code",
   "execution_count": 28,
   "id": "df70da79",
   "metadata": {},
   "outputs": [
    {
     "name": "stdout",
     "output_type": "stream",
     "text": [
      "0\t1\t1\t-1\t-3\t \n",
      "∞\t0\t0\t-2\t-4\t \n",
      "∞\t3\t0\t1\t-1\t \n",
      "∞\t5\t2\t0\t-2\t \n",
      "∞\t∞\t∞\t∞\t0\t \n"
     ]
    }
   ],
   "source": [
    "B = [[0, 1, 9999, 9999, 9999],\n",
    "    [9999, 0, 9999, -2, 9999],\n",
    "    [9999, 3, 0, 9999, 9999],\n",
    "    [9999, 9999, 2, 0, -2],\n",
    "    [9999, 9999, 9999, 9999, 0]]\n",
    "        \n",
    "def find_min(U, B, i, j):\n",
    "    row = U[i]\n",
    "    col = []\n",
    "    for index in range(len(B)):\n",
    "        col.append(B[index][j])\n",
    "    possible_mins = []\n",
    "    for index in range(len(row)):\n",
    "        possible_mins.append(row[index]+col[index])\n",
    "    return min(possible_mins)\n",
    "\n",
    "def bellman_mult(U, B):\n",
    "    res = []\n",
    "    for i in range(len(U)):\n",
    "        res.append([])\n",
    "        for j in range(len(B)):\n",
    "            res[i].append(find_min(U, B, i, j))\n",
    "    return res\n",
    "\n",
    "def print_bellman(result):\n",
    "    for i in range(len(result)):\n",
    "        for j in range(len(result)):\n",
    "            if result[i][j] > 1000:\n",
    "                print('\\u221E' + \"\\t\", end = \"\")\n",
    "            else:\n",
    "                print(str(result[i][j]) + \"\\t\", end = \"\")\n",
    "        print(\" \")\n",
    "        \n",
    "def calc_bellman(B: list[list[int]], n = len(B)):\n",
    "    n_iterations = n-1\n",
    "    U = [B]\n",
    "    for i in range(n_iterations):\n",
    "        U.append(bellman_mult(U[i], B))\n",
    "    return U[-1]\n",
    "    \n",
    "print_bellman(calc_bellman(B))"
   ]
  },
  {
   "cell_type": "code",
   "execution_count": 29,
   "id": "9fbb3e91",
   "metadata": {},
   "outputs": [
    {
     "data": {
      "text/plain": [
       "[[0, 1, 9999, 9999, 9999],\n",
       " [9999, 0, 9999, -2, 9999],\n",
       " [9999, 3, 0, 9999, 9999],\n",
       " [9999, 9999, 2, 0, -2],\n",
       " [9999, 9999, 9999, 9999, 0]]"
      ]
     },
     "execution_count": 29,
     "metadata": {},
     "output_type": "execute_result"
    }
   ],
   "source": []
  }
 ],
 "metadata": {
  "kernelspec": {
   "display_name": "Python 3 (ipykernel)",
   "language": "python",
   "name": "python3"
  },
  "language_info": {
   "codemirror_mode": {
    "name": "ipython",
    "version": 3
   },
   "file_extension": ".py",
   "mimetype": "text/x-python",
   "name": "python",
   "nbconvert_exporter": "python",
   "pygments_lexer": "ipython3",
   "version": "3.9.10"
  }
 },
 "nbformat": 4,
 "nbformat_minor": 5
}
